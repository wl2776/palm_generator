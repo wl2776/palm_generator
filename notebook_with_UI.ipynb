{
 "cells": [
  {
   "cell_type": "code",
   "execution_count": 1,
   "id": "2d830b34",
   "metadata": {},
   "outputs": [],
   "source": [
    "!pip install opencv-python\n",
    "!apt-get update && apt-get install ffmpeg libsm6 libxext6  -y\n",
    "!pip install mediapipe"
   ]
  },
  {
   "cell_type": "code",
   "execution_count": 2,
   "id": "63dce4cd",
   "metadata": {},
   "outputs": [
    {
     "name": "stdout",
     "output_type": "stream",
     "text": [
      "Requirement already satisfied: gradio in /root/miniconda3/lib/python3.11/site-packages (4.42.0)\n",
      "Requirement already satisfied: aiofiles<24.0,>=22.0 in /root/miniconda3/lib/python3.11/site-packages (from gradio) (23.2.1)\n",
      "Requirement already satisfied: anyio<5.0,>=3.0 in /root/miniconda3/lib/python3.11/site-packages (from gradio) (3.7.1)\n",
      "Requirement already satisfied: fastapi in /root/miniconda3/lib/python3.11/site-packages (from gradio) (0.104.0)\n",
      "Requirement already satisfied: ffmpy in /root/miniconda3/lib/python3.11/site-packages (from gradio) (0.4.0)\n",
      "Requirement already satisfied: gradio-client==1.3.0 in /root/miniconda3/lib/python3.11/site-packages (from gradio) (1.3.0)\n",
      "Requirement already satisfied: httpx>=0.24.1 in /root/miniconda3/lib/python3.11/site-packages (from gradio) (0.27.2)\n",
      "Requirement already satisfied: huggingface-hub>=0.19.3 in /root/miniconda3/lib/python3.11/site-packages (from gradio) (0.24.6)\n",
      "Requirement already satisfied: importlib-resources<7.0,>=1.3 in /root/miniconda3/lib/python3.11/site-packages (from gradio) (6.1.0)\n",
      "Requirement already satisfied: jinja2<4.0 in /root/miniconda3/lib/python3.11/site-packages (from gradio) (3.1.2)\n",
      "Requirement already satisfied: markupsafe~=2.0 in /root/miniconda3/lib/python3.11/site-packages (from gradio) (2.1.3)\n",
      "Requirement already satisfied: matplotlib~=3.0 in /root/miniconda3/lib/python3.11/site-packages (from gradio) (3.9.1)\n",
      "Requirement already satisfied: numpy<3.0,>=1.0 in /root/miniconda3/lib/python3.11/site-packages (from gradio) (1.26.4)\n",
      "Requirement already satisfied: orjson~=3.0 in /root/miniconda3/lib/python3.11/site-packages (from gradio) (3.10.7)\n",
      "Requirement already satisfied: packaging in /root/miniconda3/lib/python3.11/site-packages (from gradio) (24.1)\n",
      "Requirement already satisfied: pandas<3.0,>=1.0 in /root/miniconda3/lib/python3.11/site-packages (from gradio) (2.2.2)\n",
      "Requirement already satisfied: pillow<11.0,>=8.0 in /root/miniconda3/lib/python3.11/site-packages (from gradio) (9.4.0)\n",
      "Requirement already satisfied: pydantic>=2.0 in /root/miniconda3/lib/python3.11/site-packages (from gradio) (2.0.3)\n",
      "Requirement already satisfied: pydub in /root/miniconda3/lib/python3.11/site-packages (from gradio) (0.25.1)\n",
      "Requirement already satisfied: python-multipart>=0.0.9 in /root/miniconda3/lib/python3.11/site-packages (from gradio) (0.0.9)\n",
      "Requirement already satisfied: pyyaml<7.0,>=5.0 in /root/miniconda3/lib/python3.11/site-packages (from gradio) (6.0.1)\n",
      "Requirement already satisfied: ruff>=0.2.2 in /root/miniconda3/lib/python3.11/site-packages (from gradio) (0.6.2)\n",
      "Requirement already satisfied: semantic-version~=2.0 in /root/miniconda3/lib/python3.11/site-packages (from gradio) (2.10.0)\n",
      "Requirement already satisfied: tomlkit==0.12.0 in /root/miniconda3/lib/python3.11/site-packages (from gradio) (0.12.0)\n",
      "Requirement already satisfied: typer<1.0,>=0.12 in /root/miniconda3/lib/python3.11/site-packages (from gradio) (0.12.5)\n",
      "Requirement already satisfied: typing-extensions~=4.0 in /root/miniconda3/lib/python3.11/site-packages (from gradio) (4.12.2)\n",
      "Requirement already satisfied: urllib3~=2.0 in /root/miniconda3/lib/python3.11/site-packages (from gradio) (2.2.2)\n",
      "Requirement already satisfied: uvicorn>=0.14.0 in /root/miniconda3/lib/python3.11/site-packages (from gradio) (0.23.2)\n",
      "Requirement already satisfied: fsspec in /root/miniconda3/lib/python3.11/site-packages (from gradio-client==1.3.0->gradio) (2023.9.2)\n",
      "Requirement already satisfied: websockets<13.0,>=10.0 in /root/miniconda3/lib/python3.11/site-packages (from gradio-client==1.3.0->gradio) (12.0)\n",
      "Requirement already satisfied: idna>=2.8 in /root/miniconda3/lib/python3.11/site-packages (from anyio<5.0,>=3.0->gradio) (3.4)\n",
      "Requirement already satisfied: sniffio>=1.1 in /root/miniconda3/lib/python3.11/site-packages (from anyio<5.0,>=3.0->gradio) (1.3.0)\n",
      "Requirement already satisfied: certifi in /root/miniconda3/lib/python3.11/site-packages (from httpx>=0.24.1->gradio) (2023.7.22)\n",
      "Requirement already satisfied: httpcore==1.* in /root/miniconda3/lib/python3.11/site-packages (from httpx>=0.24.1->gradio) (1.0.5)\n",
      "Requirement already satisfied: h11<0.15,>=0.13 in /root/miniconda3/lib/python3.11/site-packages (from httpcore==1.*->httpx>=0.24.1->gradio) (0.14.0)\n",
      "Requirement already satisfied: filelock in /root/miniconda3/lib/python3.11/site-packages (from huggingface-hub>=0.19.3->gradio) (3.12.4)\n",
      "Requirement already satisfied: requests in /root/miniconda3/lib/python3.11/site-packages (from huggingface-hub>=0.19.3->gradio) (2.31.0)\n",
      "Requirement already satisfied: tqdm>=4.42.1 in /root/miniconda3/lib/python3.11/site-packages (from huggingface-hub>=0.19.3->gradio) (4.65.0)\n",
      "Requirement already satisfied: contourpy>=1.0.1 in /root/miniconda3/lib/python3.11/site-packages (from matplotlib~=3.0->gradio) (1.1.1)\n",
      "Requirement already satisfied: cycler>=0.10 in /root/miniconda3/lib/python3.11/site-packages (from matplotlib~=3.0->gradio) (0.12.1)\n",
      "Requirement already satisfied: fonttools>=4.22.0 in /root/miniconda3/lib/python3.11/site-packages (from matplotlib~=3.0->gradio) (4.43.1)\n",
      "Requirement already satisfied: kiwisolver>=1.3.1 in /root/miniconda3/lib/python3.11/site-packages (from matplotlib~=3.0->gradio) (1.4.5)\n",
      "Requirement already satisfied: pyparsing>=2.3.1 in /root/miniconda3/lib/python3.11/site-packages (from matplotlib~=3.0->gradio) (3.1.1)\n",
      "Requirement already satisfied: python-dateutil>=2.7 in /root/miniconda3/lib/python3.11/site-packages (from matplotlib~=3.0->gradio) (2.8.2)\n",
      "Requirement already satisfied: pytz>=2020.1 in /root/miniconda3/lib/python3.11/site-packages (from pandas<3.0,>=1.0->gradio) (2023.3.post1)\n",
      "Requirement already satisfied: tzdata>=2022.7 in /root/miniconda3/lib/python3.11/site-packages (from pandas<3.0,>=1.0->gradio) (2023.3)\n",
      "Requirement already satisfied: annotated-types>=0.4.0 in /root/miniconda3/lib/python3.11/site-packages (from pydantic>=2.0->gradio) (0.6.0)\n",
      "Requirement already satisfied: pydantic-core==2.3.0 in /root/miniconda3/lib/python3.11/site-packages (from pydantic>=2.0->gradio) (2.3.0)\n",
      "Requirement already satisfied: click>=8.0.0 in /root/miniconda3/lib/python3.11/site-packages (from typer<1.0,>=0.12->gradio) (8.1.7)\n",
      "Requirement already satisfied: shellingham>=1.3.0 in /root/miniconda3/lib/python3.11/site-packages (from typer<1.0,>=0.12->gradio) (1.5.4)\n",
      "Requirement already satisfied: rich>=10.11.0 in /root/miniconda3/lib/python3.11/site-packages (from typer<1.0,>=0.12->gradio) (13.6.0)\n",
      "Requirement already satisfied: starlette<0.28.0,>=0.27.0 in /root/miniconda3/lib/python3.11/site-packages (from fastapi->gradio) (0.27.0)\n",
      "Requirement already satisfied: six>=1.5 in /root/miniconda3/lib/python3.11/site-packages (from python-dateutil>=2.7->matplotlib~=3.0->gradio) (1.16.0)\n",
      "Requirement already satisfied: markdown-it-py>=2.2.0 in /root/miniconda3/lib/python3.11/site-packages (from rich>=10.11.0->typer<1.0,>=0.12->gradio) (3.0.0)\n",
      "Requirement already satisfied: pygments<3.0.0,>=2.13.0 in /root/miniconda3/lib/python3.11/site-packages (from rich>=10.11.0->typer<1.0,>=0.12->gradio) (2.16.1)\n",
      "Requirement already satisfied: charset-normalizer<4,>=2 in /root/miniconda3/lib/python3.11/site-packages (from requests->huggingface-hub>=0.19.3->gradio) (2.0.4)\n",
      "Requirement already satisfied: mdurl~=0.1 in /root/miniconda3/lib/python3.11/site-packages (from markdown-it-py>=2.2.0->rich>=10.11.0->typer<1.0,>=0.12->gradio) (0.1.2)\n",
      "\u001b[33mWARNING: Running pip as the 'root' user can result in broken permissions and conflicting behaviour with the system package manager, possibly rendering your system unusable.It is recommended to use a virtual environment instead: https://pip.pypa.io/warnings/venv. Use the --root-user-action option if you know what you are doing and want to suppress this warning.\u001b[0m\u001b[33m\n",
      "\u001b[0mRequirement already satisfied: asyncio in /root/miniconda3/lib/python3.11/site-packages (3.4.3)\n",
      "\u001b[33mWARNING: Running pip as the 'root' user can result in broken permissions and conflicting behaviour with the system package manager, possibly rendering your system unusable.It is recommended to use a virtual environment instead: https://pip.pypa.io/warnings/venv. Use the --root-user-action option if you know what you are doing and want to suppress this warning.\u001b[0m\u001b[33m\n",
      "\u001b[0m"
     ]
    }
   ],
   "source": [
    "!pip install opencv-python transformers accelerate\n",
    "!pip install gradio\n",
    "!pip install asyncio"
   ]
  },
  {
   "cell_type": "code",
   "execution_count": 3,
   "id": "c4a59402",
   "metadata": {},
   "outputs": [
    {
     "data": {
      "text/plain": [
       "'1728803034_'"
      ]
     },
     "execution_count": 3,
     "metadata": {},
     "output_type": "execute_result"
    }
   ],
   "source": [
    "import time\n",
    "t = str(int(time.time()))+\"_\"\n",
    "t"
   ]
  },
  {
   "cell_type": "code",
   "execution_count": 4,
   "id": "73436477",
   "metadata": {},
   "outputs": [
    {
     "name": "stderr",
     "output_type": "stream",
     "text": [
      "2024-10-13 07:04:00.518536: E tensorflow/compiler/xla/stream_executor/cuda/cuda_dnn.cc:9342] Unable to register cuDNN factory: Attempting to register factory for plugin cuDNN when one has already been registered\n",
      "2024-10-13 07:04:00.518617: E tensorflow/compiler/xla/stream_executor/cuda/cuda_fft.cc:609] Unable to register cuFFT factory: Attempting to register factory for plugin cuFFT when one has already been registered\n",
      "2024-10-13 07:04:00.518693: E tensorflow/compiler/xla/stream_executor/cuda/cuda_blas.cc:1518] Unable to register cuBLAS factory: Attempting to register factory for plugin cuBLAS when one has already been registered\n"
     ]
    }
   ],
   "source": [
    "from diffusers import AutoencoderKL, StableDiffusionXLControlNetPipeline, ControlNetModel, UniPCMultistepScheduler\n",
    "import torch\n",
    "import os\n",
    "\n",
    "from controlnet_aux import OpenposeDetector\n",
    "from diffusers.utils import load_image\n",
    "from diffusers import ControlNetModel, StableDiffusionXLControlNetPipeline, AutoencoderKL\n",
    "from diffusers import DDIMScheduler, EulerAncestralDiscreteScheduler\n",
    "from controlnet_aux import MidasDetector\n",
    "\n",
    "from PIL import Image\n",
    "import torch\n",
    "import random\n",
    "import numpy as np\n",
    "import cv2\n",
    "import gradio as gr\n",
    "import asyncio"
   ]
  },
  {
   "cell_type": "code",
   "execution_count": 5,
   "id": "600e1953",
   "metadata": {},
   "outputs": [
    {
     "name": "stdout",
     "output_type": "stream",
     "text": [
      "Running on local URL:  http://0.0.0.0:7879\n"
     ]
    },
    {
     "name": "stderr",
     "output_type": "stream",
     "text": [
      "/root/miniconda3/lib/python3.11/site-packages/gradio/analytics.py:106: UserWarning: IMPORTANT: You are using gradio version 4.42.0, however version 5.0.1 is available, please upgrade. \n",
      "--------\n",
      "  warnings.warn(\n"
     ]
    },
    {
     "name": "stdout",
     "output_type": "stream",
     "text": [
      "Running on public URL: https://a57614ec913ea846a7.gradio.live\n",
      "\n",
      "This share link expires in 72 hours. For free permanent hosting and GPU upgrades, run `gradio deploy` from Terminal to deploy to Spaces (https://huggingface.co/spaces)\n"
     ]
    },
    {
     "data": {
      "text/html": [
       "<div><iframe src=\"https://a57614ec913ea846a7.gradio.live\" width=\"100%\" height=\"500\" allow=\"autoplay; camera; microphone; clipboard-read; clipboard-write;\" frameborder=\"0\" allowfullscreen></iframe></div>"
      ],
      "text/plain": [
       "<IPython.core.display.HTML object>"
      ]
     },
     "metadata": {},
     "output_type": "display_data"
    },
    {
     "data": {
      "text/plain": []
     },
     "execution_count": 5,
     "metadata": {},
     "output_type": "execute_result"
    }
   ],
   "source": [
    "async def image_generator(path, amount, height, width, prompt, negative_prompt):\n",
    "    #TODO: сделать количество картинoк зависимым от amount\n",
    "    controlnet_conditioning_scale = 1.0\n",
    "\n",
    "    controlnet = ControlNetModel.from_pretrained(\n",
    "        \"xinsir/controlnet-depth-sdxl-1.0\",\n",
    "        torch_dtype=torch.float16, cache_dir='./modele cache/'\n",
    "    )\n",
    "\n",
    "    # when test with other base model, you need to change the vae also.\n",
    "    vae = AutoencoderKL.from_pretrained(\"madebyollin/sdxl-vae-fp16-fix\", torch_dtype=torch.float16,\n",
    "                                        cache_dir='./modele cache/')\n",
    "\n",
    "    eulera_scheduler = EulerAncestralDiscreteScheduler.from_pretrained(\"stabilityai/stable-diffusion-xl-base-1.0\",\n",
    "                                                                       subfolder=\"scheduler\",\n",
    "                                                                       cache_dir='./modele cache/')\n",
    "\n",
    "    pipe = StableDiffusionXLControlNetPipeline.from_pretrained(\n",
    "        \"John6666/realism-by-stable-yogi-sdxlv2-sdxl\",\n",
    "        controlnet=controlnet,\n",
    "        vae=vae,\n",
    "        torch_dtype=torch.float16,\n",
    "        scheduler=eulera_scheduler,\n",
    "        cache_dir='./modele cache/'\n",
    "    ).to(\"cuda\")\n",
    "    for i in range(amount):\n",
    "        # Получаем случайный файл маски\n",
    "        mask_files = [f for f in os.listdir('./masks/') if f.endswith((\".jpg\", \".png\"))]\n",
    "        random_mask_file = random.choice(mask_files)\n",
    "        controlnet_img = Image.open('./masks/' + random_mask_file).convert(\"L\")  # Преобразуем в черно-белый формат\n",
    "\n",
    "        # Генерация изображения с pipe\n",
    "        images = pipe(\n",
    "            prompt,\n",
    "            negative_prompt=negative_prompt,\n",
    "            image=controlnet_img,\n",
    "            controlnet_conditioning_scale=controlnet_conditioning_scale,\n",
    "            width=width,\n",
    "            height=height,\n",
    "            num_inference_steps=50,\n",
    "            num_images_per_prompt=1\n",
    "        )\n",
    "\n",
    "        # Конвертируем маску в NumPy массив для применения\n",
    "        controlnet_mask = np.array(controlnet_img)\n",
    "\n",
    "        # Пройдем по всем сгенерированным изображениям\n",
    "        for im in range(len(images.images)):\n",
    "            # Сохраняем изображение\n",
    "            # masked_pil_image.save(\"./img/\" + t + \"image_\" +random_mask_file[:-4]+\"_\"+ str(im) + '_' + str(i) + \".jpg\")\n",
    "            images.images[im].save(\n",
    "                path+\"/img/\" + t + \"image_\" + random_mask_file[:-4] + \"_\" + str(im) + '_' + str(i) + \".jpg\")\n",
    "\n",
    "        # Очищаем кэш после каждой итерации\n",
    "        torch.cuda.empty_cache()\n",
    "\n",
    "\n",
    "async def prompt_generator(output_path, amount, height, width, race, cleanliness, jewelry, tatoo, gender, age, background):\n",
    "    parameters = [race, cleanliness, jewelry, tatoo, gender, age]\n",
    "    for parameter in parameters:\n",
    "        if parameter is None:\n",
    "            return \"Error! Fullfill all fields\"\n",
    "    if cleanliness==\"dirty\":\n",
    "        prompt = \"A detailed, high-quality photograph, high-quality  realistically, well lit, of a dirty human palm of an \"+age+\" \" + race+\" \"+gender+\" \"+tatoo+\" \"+jewelry+ \" on a pure white background. \"+background+\" background.The palm is facing the viewer, fingers extended, with the pattern of creases and lines on the hand clearly visible. There are no other objects or elements in the image. Resolution \"+str(width)+\"x\"+str(height)\n",
    "    else:\n",
    "        prompt = \"A detailed, high-quality photograph, high-quality  realistically, well lit, of a human palm of an \" + age + \" \" + race + \" \" + gender + \" \" + tatoo + \" \" + jewelry + \" on a pure white background. White background.The palm is facing the viewer, fingers extended, with the pattern of creases and lines on the hand clearly visible. There are no other objects or elements in the image. Resolution \" + str(width) + \"x\" + str(height)\n",
    "    negative_prompt = \"not a palm, drawn, cartoons, animation, drawing, Blurriness, (many folds), low resolution, other body parts, extraneous objects, background elements, text, watermarks, multiple hands, gloves, nail polish, distracting details.\"\n",
    "    image_generator(output_path, amount, height, width, prompt, negative_prompt)\n",
    "    return \"Prompt: \"+prompt+\"\\nNegative prompt: \"+negative_prompt+\"\\nPictures are generating. Please check the output path.\"\n",
    "\n",
    "demo = gr.Interface(\n",
    "    prompt_generator,\n",
    "    [\n",
    "        gr.Textbox(value=\"/generated_data\"),\n",
    "        gr.Number(value=1000),\n",
    "        gr.Number(value=512),\n",
    "        gr.Number(value=512),\n",
    "        gr.Radio([\"european\", \"african\", \"asian\"], value=\"european\"),\n",
    "        gr.Radio([\"dirty\", \"clean\"], value=\"clean\"),\n",
    "        gr.Radio([\"with jewelry\", \"without jewelry\"], value=\"without jewelry\"),\n",
    "        gr.Radio([\"with tatoo\", \"without tatoo\"], value=\"without tatoo\"),\n",
    "        gr.Radio([\"man\", \"woman\"], value=\"man\"),\n",
    "        gr.Radio([\"child\", \"adult\", \"old\"], value=\"adult\"),\n",
    "        gr.Textbox(value=\"white\"),\n",
    "    ],\n",
    "    \"text\",\n",
    "    title=\"Biometry data generator\",\n",
    ")\n",
    "demo.launch(server_name='0.0.0.0', server_port=7878,share=True)"
   ]
  }
 ],
 "metadata": {
  "kernelspec": {
   "display_name": "Python 3 (ipykernel)",
   "language": "python",
   "name": "python3"
  },
  "language_info": {
   "codemirror_mode": {
    "name": "ipython",
    "version": 3
   },
   "file_extension": ".py",
   "mimetype": "text/x-python",
   "name": "python",
   "nbconvert_exporter": "python",
   "pygments_lexer": "ipython3",
   "version": "3.12.3"
  }
 },
 "nbformat": 4,
 "nbformat_minor": 5
}
